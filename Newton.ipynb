{
 "cells": [
  {
   "cell_type": "code",
   "execution_count": 11,
   "id": "d76192a3-90d5-4ea6-8c4e-7d6231cddb4e",
   "metadata": {},
   "outputs": [],
   "source": [
    "using Plots, ForwardDiff,LinearAlgebra,Roots"
   ]
  },
  {
   "cell_type": "markdown",
   "id": "f6fc7edf-2ec1-4e6d-bdf2-9a5b5d0eef92",
   "metadata": {},
   "source": [
    "## Funktionendefinitionen \n",
    "Definition der Funktionen $M_{an}$, $m$ und $\\nabla (S - \\langle m,m_p \\rangle)= m - m_p$ \n",
    "\n",
    "Außerdem wird das Problem auf dem Kreis parametrisiert. Wir haben $$\\nabla Prob(r \\sin \\phi \\cos \\psi,r \\sin \\phi \\sin \\psi,r \\cos \\phi) = (m(r \\sin \\phi \\cos \\psi,r \\sin \\phi \\sin \\psi,r \\cos \\phi)-m_p) J_{r,\\phi,\\psi}(r \\sin \\phi \\cos \\psi,r \\sin \\phi \\sin \\psi,r \\cos \\phi)$$"
   ]
  },
  {
   "cell_type": "code",
   "execution_count": 34,
   "id": "38ebe92d-0b2b-40ec-894e-8f463b7306ad",
   "metadata": {},
   "outputs": [
    {
     "data": {
      "text/plain": [
       "∇ProbOnBall (generic function with 2 methods)"
      ]
     },
     "execution_count": 34,
     "metadata": {},
     "output_type": "execute_result"
    }
   ],
   "source": [
    "\n",
    "Man(hr,ms,A) = 2ms/π * atan(hr/A)\n",
    "m(hr,ms,A) = Man(norm(hr),ms,A) * hr ./ norm(hr)\n",
    "m(hr) = m(hr,1.23*10^3,38)\n",
    "∇Prob(u,mp) = m(u) .- mp\n",
    "transformToEuklidean(ϕ,θ,r,h) =  h + [r * sin(θ) * cos(ϕ),r * sin(θ) * sin(ϕ),r * cos(θ)]\n",
    "\n",
    "∇ProbOnBall(ϕ,θ,r,h,mp) = (m(transformToEuklidean(ϕ,θ,r,h)) .- mp)' * J(r,ϕ,θ)\n",
    "∇ProbOnBall(u,r,h,mp) = ∇ProbOnBall(u...,r,h,mp)"
   ]
  },
  {
   "cell_type": "markdown",
   "id": "86ac4c57-6cc5-417d-947c-d6d94cb7b840",
   "metadata": {},
   "source": [
    "## Newton Verfahren"
   ]
  },
  {
   "cell_type": "code",
   "execution_count": 35,
   "id": "3f680820-c322-4376-acb6-74bf25a86076",
   "metadata": {},
   "outputs": [
    {
     "data": {
      "text/plain": [
       "newton (generic function with 3 methods)"
      ]
     },
     "execution_count": 35,
     "metadata": {},
     "output_type": "execute_result"
    }
   ],
   "source": [
    "function newton(f,x,eps = 10^-15,maxiter = 200)\n",
    "   \n",
    "    for i in 1:maxiter\n",
    "        \n",
    "        J = ForwardDiff.jacobian(f,x)\n",
    "        xn = (J \\ -f(x)) + x\n",
    "        if(norm(xn -x) < eps)\n",
    "            return xn\n",
    "        end\n",
    "        x = xn\n",
    "    end\n",
    "    print(\"Reached MaxIter, solution is maybe not convergent\")\n",
    "    return x\n",
    "end"
   ]
  },
  {
   "cell_type": "markdown",
   "id": "962cb41e-58ca-4649-9a26-2664f68be649",
   "metadata": {},
   "source": [
    "## Jacobi Matrix der Transformation"
   ]
  },
  {
   "cell_type": "code",
   "execution_count": 36,
   "id": "295b5480-28f3-44f7-b7f0-1c951ca52b20",
   "metadata": {},
   "outputs": [
    {
     "data": {
      "text/plain": [
       "J (generic function with 1 method)"
      ]
     },
     "execution_count": 36,
     "metadata": {},
     "output_type": "execute_result"
    }
   ],
   "source": [
    "J(r,ϕ,θ) = \n",
    "    [[sin(θ)*cos(ϕ), r * cos(θ) * cos(ϕ), -r * sin(θ) * sin(ϕ)],\n",
    "    [sin(θ)* sin(ϕ),r * cos(θ) * sin(ϕ),r * sin(θ) * cos(ϕ)],\n",
    "    [cos(θ), -r * sin(θ),0]]"
   ]
  },
  {
   "cell_type": "markdown",
   "id": "a5ef9074-54c3-4faa-91a8-cda30d2bfc13",
   "metadata": {},
   "source": [
    "We now solve $$\\arg\\min_{u \\in \\mathring K(h)} S(u) - \\langle u, m_p \\rangle$$ with the newton method. If the solution is not in $\\mathring K(h)$, then  we solve on the ball $\\partial K(h)$. For this we set $g(\\theta,\\phi) = r \\sin(θ)  \\cos(ϕ),r  \\sin(θ) \\sin(ϕ),r \\cos(θ)$ and solve $$\\nabla(S(g(\\theta,\\phi)) - <m,g(\\theta,\\phi)> = 0$$"
   ]
  },
  {
   "cell_type": "code",
   "execution_count": 56,
   "id": "fb303f16-b7bf-4f09-8231-45c72e64c1ee",
   "metadata": {},
   "outputs": [
    {
     "data": {
      "text/plain": [
       "solve (generic function with 2 methods)"
      ]
     },
     "execution_count": 56,
     "metadata": {},
     "output_type": "execute_result"
    }
   ],
   "source": [
    "struct ProblemStructure\n",
    "    χ ::Real\n",
    "    h ::Vector\n",
    "    mp ::Real\n",
    "end\n",
    "\n",
    "function solve(s ::ProblemStructure)\n",
    "    \n",
    "    hr = newton((u) -> ∇Prob(u,s.mp),[0.1,0.1,0.1])\n",
    "\n",
    "    if(norm(hr .- s.h) >= s.χ)\n",
    "        println(\"Solution is not in K(h), searching on the edge instead\")\n",
    "\n",
    "        ans = newton((u) -> ∇ProbOnBall(u...,χ,s.h,s.mp),[0.4,π-0.5])\n",
    "        println(ans)\n",
    "        hr = transformToEuklidean(ans...,s.χ,s.h)\n",
    "    end\n",
    "    return hr\n",
    "end\n",
    "\n",
    "solve(χ,h,mp) = solve(ProblemStructure(χ,h,mp))"
   ]
  },
  {
   "cell_type": "code",
   "execution_count": 59,
   "id": "14160a8f-c386-4293-9efa-64746e9490ea",
   "metadata": {},
   "outputs": [
    {
     "name": "stdout",
     "output_type": "stream",
     "text": [
      "Solution is not in K(h), searching on the edge instead\n",
      "[-0.7853981633974483, 3.141592653589793]\n"
     ]
    },
    {
     "data": {
      "text/plain": [
       "3-element Vector{Float64}:\n",
       "  2.59786816870648e-16\n",
       " -2.5978681687064796e-16\n",
       " -3.0"
      ]
     },
     "execution_count": 59,
     "metadata": {},
     "output_type": "execute_result"
    }
   ],
   "source": [
    "χ = 3\n",
    "h = [0,0,0]\n",
    "mp = 100\n",
    "hres = solve(ProblemStructure(χ,h,mp))"
   ]
  },
  {
   "cell_type": "code",
   "execution_count": 60,
   "id": "9c08d666-5fcb-42ec-90c0-9bb9420bd446",
   "metadata": {},
   "outputs": [
    {
     "data": {
      "text/plain": [
       "3.0"
      ]
     },
     "execution_count": 60,
     "metadata": {},
     "output_type": "execute_result"
    }
   ],
   "source": [
    "norm(h - hres)"
   ]
  },
  {
   "cell_type": "code",
   "execution_count": null,
   "id": "600a4510-6789-4e38-86fe-7c6b41ac0a54",
   "metadata": {},
   "outputs": [],
   "source": []
  }
 ],
 "metadata": {
  "kernelspec": {
   "display_name": "Julia 1.8.0",
   "language": "julia",
   "name": "julia-1.8"
  },
  "language_info": {
   "file_extension": ".jl",
   "mimetype": "application/julia",
   "name": "julia",
   "version": "1.8.0"
  }
 },
 "nbformat": 4,
 "nbformat_minor": 5
}
