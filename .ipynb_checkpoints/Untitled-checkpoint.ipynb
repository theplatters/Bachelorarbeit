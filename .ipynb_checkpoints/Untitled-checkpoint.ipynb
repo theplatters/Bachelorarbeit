{
 "cells": [
  {
   "cell_type": "code",
   "execution_count": null,
   "id": "f37dc4ab-02b5-4f79-a168-576d4ed393ed",
   "metadata": {},
   "outputs": [],
   "source": [
    "using(Plots)"
   ]
  },
  {
   "cell_type": "code",
   "execution_count": null,
   "id": "586a6df2-e1fa-4b7c-ac15-79f75f85e7b9",
   "metadata": {},
   "outputs": [],
   "source": [
    "plot(arctanh)"
   ]
  },
  {
   "cell_type": "code",
   "execution_count": null,
   "id": "ed4c6339-066c-4384-ac25-08748e212fb9",
   "metadata": {},
   "outputs": [],
   "source": []
  }
 ],
 "metadata": {
  "kernelspec": {
   "display_name": "Julia 1.8.0",
   "language": "julia",
   "name": "julia-1.8"
  },
  "language_info": {
   "file_extension": ".jl",
   "mimetype": "application/julia",
   "name": "julia",
   "version": "1.8.0"
  }
 },
 "nbformat": 4,
 "nbformat_minor": 5
}
