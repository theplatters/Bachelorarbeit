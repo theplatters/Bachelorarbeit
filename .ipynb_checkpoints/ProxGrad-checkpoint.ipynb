{
 "cells": [
  {
   "cell_type": "code",
   "execution_count": 7,
   "id": "33c3687c-18c7-4fc3-890a-4dc1eb9d46bc",
   "metadata": {},
   "outputs": [],
   "source": [
    "using LinearAlgebra, Plots,ForwardDiff"
   ]
  },
  {
   "cell_type": "markdown",
   "id": "8af7593d-37f0-47b0-ae60-460631e5e473",
   "metadata": {},
   "source": [
    "Der Proximal Gradient für $g(x) = \\lambda \\|x\\|$ ist bekannt, wir müssen aber den Proximal Gradient von $g(x - m_p)$ ausrechnen. Aus Beck Theorem 6.16 wisen wir, dass gilt für$f(x) = g(x+a): \\text{prox}_f(x) = \\text{prox}_g(x + a) -a$"
   ]
  },
  {
   "cell_type": "code",
   "execution_count": 14,
   "id": "eef47a6d-d0ab-4298-b88d-9fe9056f2877",
   "metadata": {},
   "outputs": [
    {
     "data": {
      "text/plain": [
       "proxOfNorm (generic function with 1 method)"
      ]
     },
     "execution_count": 14,
     "metadata": {},
     "output_type": "execute_result"
    }
   ],
   "source": [
    "function proxOfNorm(x,λ,mp)\n",
    "        ((1 - λ / max(norm(x-mp),λ)) * x) + mp\n",
    "end"
   ]
  },
  {
   "cell_type": "code",
   "execution_count": 15,
   "id": "7ea2489b-657f-49ba-bb3c-b258f83823be",
   "metadata": {},
   "outputs": [
    {
     "data": {
      "text/plain": [
       "proxGrad (generic function with 5 methods)"
      ]
     },
     "execution_count": 15,
     "metadata": {},
     "output_type": "execute_result"
    }
   ],
   "source": [
    "function proxGrad(f,χ,mp,xk,maxIter=1000;Lk=1/maxIter)\n",
    "   for i ∈ 1:maxIter\n",
    "        xk = proxOfNorm((xk - 1/Lk * ForwardDiff.gradient(f,xk)),1/Lk * χ)\n",
    "    end\n",
    "end"
   ]
  },
  {
   "cell_type": "code",
   "execution_count": 27,
   "id": "bd13f9a5-df04-4c22-8c1b-280c1c16a827",
   "metadata": {},
   "outputs": [
    {
     "data": {
      "text/plain": [
       "u (generic function with 1 method)"
      ]
     },
     "execution_count": 27,
     "metadata": {},
     "output_type": "execute_result"
    }
   ],
   "source": [
    "u(J,α) = α.*(J .* atanh.(J) .+ 1/2 .* log.(abs.(J.^2 .- 1))) "
   ]
  },
  {
   "cell_type": "code",
   "execution_count": 29,
   "id": "d0059f6c-72b3-4aae-b1c1-5afad4b52563",
   "metadata": {},
   "outputs": [
    {
     "data": {
      "text/plain": [
       "2-element Vector{Float64}:\n",
       " 0.0\n",
       " 0.130812035941137"
      ]
     },
     "execution_count": 29,
     "metadata": {},
     "output_type": "execute_result"
    }
   ],
   "source": [
    "u([0,0.5],1)"
   ]
  },
  {
   "cell_type": "code",
   "execution_count": 40,
   "id": "e55692f3-bd5e-4559-85a6-e22bc7769949",
   "metadata": {},
   "outputs": [
    {
     "ename": "LoadError",
     "evalue": "MethodError: \u001b[0mCannot `convert` an object of type \u001b[92mVector{Float64}\u001b[39m\u001b[0m to an object of type \u001b[91mFloat64\u001b[39m\n\u001b[0mClosest candidates are:\n\u001b[0m  convert(::Type{T}, \u001b[91m::Gray24\u001b[39m) where T<:Real at ~/.julia/packages/ColorTypes/1dGw6/src/conversions.jl:114\n\u001b[0m  convert(::Type{T}, \u001b[91m::Gray\u001b[39m) where T<:Real at ~/.julia/packages/ColorTypes/1dGw6/src/conversions.jl:113\n\u001b[0m  convert(::Type{T}, \u001b[91m::T\u001b[39m) where T<:Number at number.jl:6\n\u001b[0m  ...",
     "output_type": "error",
     "traceback": [
      "MethodError: \u001b[0mCannot `convert` an object of type \u001b[92mVector{Float64}\u001b[39m\u001b[0m to an object of type \u001b[91mFloat64\u001b[39m\n\u001b[0mClosest candidates are:\n\u001b[0m  convert(::Type{T}, \u001b[91m::Gray24\u001b[39m) where T<:Real at ~/.julia/packages/ColorTypes/1dGw6/src/conversions.jl:114\n\u001b[0m  convert(::Type{T}, \u001b[91m::Gray\u001b[39m) where T<:Real at ~/.julia/packages/ColorTypes/1dGw6/src/conversions.jl:113\n\u001b[0m  convert(::Type{T}, \u001b[91m::T\u001b[39m) where T<:Number at number.jl:6\n\u001b[0m  ...",
      "",
      "Stacktrace:",
      "  [1] setindex!(A::Matrix{Float64}, x::Vector{Float64}, i1::Int64)",
      "    @ Base ./array.jl:966",
      "  [2] Surface(f::var\"#18#19\", x::StepRangeLen{Float64, Base.TwicePrecision{Float64}, Base.TwicePrecision{Float64}, Int64}, y::StepRangeLen{Float64, Base.TwicePrecision{Float64}, Base.TwicePrecision{Float64}, Int64})",
      "    @ RecipesPipeline ~/.julia/packages/RecipesPipeline/XxUHt/src/utils.jl:84",
      "  [3] macro expansion",
      "    @ ~/.julia/packages/RecipesPipeline/XxUHt/src/user_recipe.jl:251 [inlined]",
      "  [4] apply_recipe(plotattributes::AbstractDict{Symbol, Any}, x::AbstractVector, y::AbstractVector, zf::Function)",
      "    @ RecipesPipeline ~/.julia/packages/RecipesBase/z10lo/src/RecipesBase.jl:300",
      "  [5] _process_userrecipes!(plt::Any, plotattributes::Any, args::Any)",
      "    @ RecipesPipeline ~/.julia/packages/RecipesPipeline/XxUHt/src/user_recipe.jl:38",
      "  [6] recipe_pipeline!(plt::Any, plotattributes::Any, args::Any)",
      "    @ RecipesPipeline ~/.julia/packages/RecipesPipeline/XxUHt/src/RecipesPipeline.jl:72",
      "  [7] _plot!(plt::Plots.Plot, plotattributes::Any, args::Any)",
      "    @ Plots ~/.julia/packages/Plots/modjX/src/plot.jl:223",
      "  [8] plot(::Any, ::Vararg{Any}; kw::Base.Pairs{Symbol, V, Tuple{Vararg{Symbol, N}}, NamedTuple{names, T}} where {V, N, names, T<:Tuple{Vararg{Any, N}}})",
      "    @ Plots ~/.julia/packages/Plots/modjX/src/plot.jl:102",
      "  [9] surface(::Any, ::Vararg{Any}; kw::Base.Pairs{Symbol, V, Tuple{Vararg{Symbol, N}}, NamedTuple{names, T}} where {V, N, names, T<:Tuple{Vararg{Any, N}}})",
      "    @ Plots ~/.julia/packages/RecipesBase/z10lo/src/RecipesBase.jl:427",
      " [10] surface(::Any, ::Vararg{Any})",
      "    @ Plots ~/.julia/packages/RecipesBase/z10lo/src/RecipesBase.jl:427",
      " [11] top-level scope",
      "    @ In[40]:2"
     ]
    }
   ],
   "source": [
    "u(J,α) = α.*(J .* atanh.(J) .+ 1/2 .* log.(abs.(J.^2 .- 1))) \n",
    "x = y = range(-1,1,100)\n",
    "surface(x,y,(x,y) -> u([x,y],1))"
   ]
  },
  {
   "cell_type": "code",
   "execution_count": 36,
   "id": "6a7c3d14-75d4-4b1c-b444-e85bfbdf7971",
   "metadata": {},
   "outputs": [
    {
     "data": {
      "text/plain": [
       "-1.0:0.020202020202020204:1.0"
      ]
     },
     "execution_count": 36,
     "metadata": {},
     "output_type": "execute_result"
    }
   ],
   "source": [
    "range(-1,1,100)"
   ]
  },
  {
   "cell_type": "code",
   "execution_count": null,
   "id": "feb9e396-4385-4d86-9ca7-b90a72c4837b",
   "metadata": {},
   "outputs": [],
   "source": []
  }
 ],
 "metadata": {
  "kernelspec": {
   "display_name": "Julia 1.8.0",
   "language": "julia",
   "name": "julia-1.8"
  },
  "language_info": {
   "file_extension": ".jl",
   "mimetype": "application/julia",
   "name": "julia",
   "version": "1.8.0"
  }
 },
 "nbformat": 4,
 "nbformat_minor": 5
}
