{
 "cells": [
  {
   "cell_type": "code",
   "execution_count": 9,
   "id": "33c3687c-18c7-4fc3-890a-4dc1eb9d46bc",
   "metadata": {},
   "outputs": [],
   "source": [
    "using LinearAlgebra, Plots, ForwardDiff"
   ]
  },
  {
   "cell_type": "markdown",
   "id": "8af7593d-37f0-47b0-ae60-460631e5e473",
   "metadata": {},
   "source": [
    "Der Proximal Gradient für $g(x) = \\lambda \\|x\\|$ ist bekannt, wir müssen aber den Proximal Gradient von $g(x - m_p)$ ausrechnen. Aus Beck Theorem 6.16 wisen wir, dass gilt für$f(x) = g(x+a): \\text{prox}_f(x) = \\text{prox}_g(x + a) -a$"
   ]
  },
  {
   "cell_type": "code",
   "execution_count": 10,
   "id": "eef47a6d-d0ab-4298-b88d-9fe9056f2877",
   "metadata": {},
   "outputs": [
    {
     "data": {
      "text/plain": [
       "proxOfNorm (generic function with 1 method)"
      ]
     },
     "execution_count": 10,
     "metadata": {},
     "output_type": "execute_result"
    }
   ],
   "source": [
    "function proxOfNorm(x,λ,mp)\n",
    "        ((1 - λ / max(norm(x-mp),λ)) * x) .+ mp\n",
    "end"
   ]
  },
  {
   "cell_type": "code",
   "execution_count": 11,
   "id": "7ea2489b-657f-49ba-bb3c-b258f83823be",
   "metadata": {},
   "outputs": [
    {
     "data": {
      "text/plain": [
       "proxGrad (generic function with 2 methods)"
      ]
     },
     "execution_count": 11,
     "metadata": {},
     "output_type": "execute_result"
    }
   ],
   "source": [
    "function proxGrad(f,χ,mp,xk,maxIter=1000;Lk=1/maxIter)\n",
    "   for i ∈ 1:maxIter\n",
    "        xk = proxOfNorm((xk .- 1/Lk * ForwardDiff.gradient(f,xk)),1/Lk * χ,mp)\n",
    "    end\n",
    "    return xk\n",
    "end"
   ]
  },
  {
   "cell_type": "code",
   "execution_count": 12,
   "id": "bd13f9a5-df04-4c22-8c1b-280c1c16a827",
   "metadata": {},
   "outputs": [
    {
     "data": {
      "text/plain": [
       "u (generic function with 2 methods)"
      ]
     },
     "execution_count": 12,
     "metadata": {},
     "output_type": "execute_result"
    }
   ],
   "source": [
    "u(J,α,Js) = α.*(J/Js .* atanh.(J/Js) .+ 1/2 .* log.(abs.((J/Js).^2 .- 1))) "
   ]
  },
  {
   "cell_type": "code",
   "execution_count": 21,
   "id": "0e46adf3-a5ee-4833-99a3-af51dfbeecaa",
   "metadata": {},
   "outputs": [
    {
     "data": {
      "text/plain": [
       "g (generic function with 1 method)"
      ]
     },
     "execution_count": 21,
     "metadata": {},
     "output_type": "execute_result"
    }
   ],
   "source": [
    "mp =  [0,3]\n",
    "χ = 0.01\n",
    "α = 1\n",
    "Js = 10\n",
    "u(J) = u(J,α,Js)\n",
    "g(h,J) = u(norm(J)) - h ⋅ J"
   ]
  },
  {
   "cell_type": "code",
   "execution_count": 22,
   "id": "fe39c23f-540b-4617-9dd7-f8de76889e7c",
   "metadata": {},
   "outputs": [
    {
     "ename": "LoadError",
     "evalue": "DomainError with 1.592120435809786:\natanh(x) is only defined for |x| ≤ 1.",
     "output_type": "error",
     "traceback": [
      "DomainError with 1.592120435809786:\natanh(x) is only defined for |x| ≤ 1.",
      "",
      "Stacktrace:",
      "  [1] atanh_domain_error(x::Float64)",
      "    @ Base.Math ./special/hyperbolic.jl:240",
      "  [2] atanh(x::Float64)",
      "    @ Base.Math ./special/hyperbolic.jl:256",
      "  [3] atanh",
      "    @ ~/.julia/packages/ForwardDiff/vXysl/src/dual.jl:240 [inlined]",
      "  [4] _broadcast_getindex_evalf",
      "    @ ./broadcast.jl:670 [inlined]",
      "  [5] _broadcast_getindex",
      "    @ ./broadcast.jl:643 [inlined]",
      "  [6] _getindex",
      "    @ ./broadcast.jl:667 [inlined]",
      "  [7] _getindex",
      "    @ ./broadcast.jl:666 [inlined]",
      "  [8] _broadcast_getindex",
      "    @ ./broadcast.jl:642 [inlined]",
      "  [9] _getindex",
      "    @ ./broadcast.jl:666 [inlined]",
      " [10] _broadcast_getindex",
      "    @ ./broadcast.jl:642 [inlined]",
      " [11] _getindex",
      "    @ ./broadcast.jl:667 [inlined]",
      " [12] _getindex",
      "    @ ./broadcast.jl:666 [inlined]",
      " [13] _broadcast_getindex",
      "    @ ./broadcast.jl:642 [inlined]",
      " [14] getindex",
      "    @ ./broadcast.jl:597 [inlined]",
      " [15] copy",
      "    @ ./broadcast.jl:875 [inlined]",
      " [16] materialize",
      "    @ ./broadcast.jl:860 [inlined]",
      " [17] u(J::ForwardDiff.Dual{ForwardDiff.Tag{var\"#15#16\", Float64}, Float64, 2}, α::Int64, Js::Int64)",
      "    @ Main ./In[12]:1",
      " [18] u(J::ForwardDiff.Dual{ForwardDiff.Tag{var\"#15#16\", Float64}, Float64, 2})",
      "    @ Main ./In[21]:5",
      " [19] g(h::Vector{Int64}, J::Vector{ForwardDiff.Dual{ForwardDiff.Tag{var\"#15#16\", Float64}, Float64, 2}})",
      "    @ Main ./In[21]:6",
      " [20] #15",
      "    @ ./In[22]:1 [inlined]",
      " [21] vector_mode_dual_eval!(f::var\"#15#16\", cfg::ForwardDiff.GradientConfig{ForwardDiff.Tag{var\"#15#16\", Float64}, Float64, 2, Vector{ForwardDiff.Dual{ForwardDiff.Tag{var\"#15#16\", Float64}, Float64, 2}}}, x::Vector{Float64})",
      "    @ ForwardDiff ~/.julia/packages/ForwardDiff/vXysl/src/apiutils.jl:24",
      " [22] vector_mode_gradient(f::var\"#15#16\", x::Vector{Float64}, cfg::ForwardDiff.GradientConfig{ForwardDiff.Tag{var\"#15#16\", Float64}, Float64, 2, Vector{ForwardDiff.Dual{ForwardDiff.Tag{var\"#15#16\", Float64}, Float64, 2}}})",
      "    @ ForwardDiff ~/.julia/packages/ForwardDiff/vXysl/src/gradient.jl:89",
      " [23] gradient(f::Function, x::Vector{Float64}, cfg::ForwardDiff.GradientConfig{ForwardDiff.Tag{var\"#15#16\", Float64}, Float64, 2, Vector{ForwardDiff.Dual{ForwardDiff.Tag{var\"#15#16\", Float64}, Float64, 2}}}, ::Val{true})",
      "    @ ForwardDiff ~/.julia/packages/ForwardDiff/vXysl/src/gradient.jl:19",
      " [24] gradient(f::Function, x::Vector{Float64}, cfg::ForwardDiff.GradientConfig{ForwardDiff.Tag{var\"#15#16\", Float64}, Float64, 2, Vector{ForwardDiff.Dual{ForwardDiff.Tag{var\"#15#16\", Float64}, Float64, 2}}}) (repeats 2 times)",
      "    @ ForwardDiff ~/.julia/packages/ForwardDiff/vXysl/src/gradient.jl:17",
      " [25] proxGrad(f::Function, χ::Float64, mp::Vector{Int64}, xk::Vector{Float64}, maxIter::Int64; Lk::Float64)",
      "    @ Main ./In[11]:3",
      " [26] proxGrad (repeats 2 times)",
      "    @ ./In[11]:1 [inlined]",
      " [27] top-level scope",
      "    @ In[22]:1",
      " [28] eval",
      "    @ ./boot.jl:368 [inlined]",
      " [29] include_string(mapexpr::typeof(REPL.softscope), mod::Module, code::String, filename::String)",
      "    @ Base ./loading.jl:1428"
     ]
    }
   ],
   "source": [
    "proxGrad((x) -> g([0,0],x),χ,mp,[0,0.5])"
   ]
  },
  {
   "cell_type": "code",
   "execution_count": 8,
   "id": "131a24e3-eb1e-4555-855e-442f605a23b2",
   "metadata": {},
   "outputs": [
    {
     "data": {
      "text/plain": [
       "2-element Vector{Float64}:\n",
       " 5.000056667822694e-5\n",
       " 3.0000340006936174e-5"
      ]
     },
     "execution_count": 8,
     "metadata": {},
     "output_type": "execute_result"
    }
   ],
   "source": [
    "ForwardDiff.gradient((x) -> g([0,0],x),[0.5,0.3])"
   ]
  },
  {
   "cell_type": "code",
   "execution_count": null,
   "id": "e2f4f68a-385b-4a60-8206-e274e8d85536",
   "metadata": {},
   "outputs": [],
   "source": []
  }
 ],
 "metadata": {
  "kernelspec": {
   "display_name": "Julia 1.8.0",
   "language": "julia",
   "name": "julia-1.8"
  },
  "language_info": {
   "file_extension": ".jl",
   "mimetype": "application/julia",
   "name": "julia",
   "version": "1.8.0"
  }
 },
 "nbformat": 4,
 "nbformat_minor": 5
}
