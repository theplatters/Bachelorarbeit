{
 "cells": [
  {
   "cell_type": "code",
   "execution_count": 106,
   "id": "33c3687c-18c7-4fc3-890a-4dc1eb9d46bc",
   "metadata": {},
   "outputs": [],
   "source": [
    "using LinearAlgebra, Plots, ForwardDiff,StatsPlots"
   ]
  },
  {
   "cell_type": "markdown",
   "id": "8af7593d-37f0-47b0-ae60-460631e5e473",
   "metadata": {},
   "source": [
    "Der Proximal Gradient für $g(x) = \\lambda \\|x\\|$ ist bekannt, wir müssen aber den Proximal Gradient von $g(x - m_p)$ ausrechnen. Aus Beck Theorem 6.16 wisen wir, dass gilt für$f(x) = g(x+a): \\text{prox}_f(x) = \\text{prox}_g(x + a) -a$"
   ]
  },
  {
   "cell_type": "code",
   "execution_count": 14,
   "id": "eef47a6d-d0ab-4298-b88d-9fe9056f2877",
   "metadata": {},
   "outputs": [
    {
     "data": {
      "text/plain": [
       "proxOfNorm (generic function with 1 method)"
      ]
     },
     "execution_count": 14,
     "metadata": {},
     "output_type": "execute_result"
    }
   ],
   "source": [
    "function proxOfNorm(x,λ,mp)\n",
    "        ((1 - λ / max(norm(x-mp),λ)) * x) .+ mp\n",
    "end"
   ]
  },
  {
   "cell_type": "code",
   "execution_count": 93,
   "id": "7ea2489b-657f-49ba-bb3c-b258f83823be",
   "metadata": {},
   "outputs": [
    {
     "data": {
      "text/plain": [
       "proxGrad (generic function with 5 methods)"
      ]
     },
     "execution_count": 93,
     "metadata": {},
     "output_type": "execute_result"
    }
   ],
   "source": [
    "function proxGrad(f,χ,mp,xk,maxIter=1000;Lk=1/maxIter)\n",
    "   for i ∈ 1:maxIter\n",
    "        xk = proxOfNorm((xk .- 1/Lk * ForwardDiff.gradient(f,xk)),1/Lk * χ,mp)\n",
    "    end\n",
    "    return xk\n",
    "end"
   ]
  },
  {
   "cell_type": "code",
   "execution_count": 94,
   "id": "bd13f9a5-df04-4c22-8c1b-280c1c16a827",
   "metadata": {},
   "outputs": [
    {
     "data": {
      "text/plain": [
       "u (generic function with 3 methods)"
      ]
     },
     "execution_count": 94,
     "metadata": {},
     "output_type": "execute_result"
    }
   ],
   "source": [
    "u(J,α,Js) = α.*(J/Js .* atanh.(J/Js) .+ 1/2 .* log.(abs.((J/Js).^2 .- 1))) "
   ]
  },
  {
   "cell_type": "code",
   "execution_count": 98,
   "id": "0e46adf3-a5ee-4833-99a3-af51dfbeecaa",
   "metadata": {},
   "outputs": [
    {
     "data": {
      "text/plain": [
       "g (generic function with 1 method)"
      ]
     },
     "execution_count": 98,
     "metadata": {},
     "output_type": "execute_result"
    }
   ],
   "source": [
    "mp =  [0,0.3]\n",
    "χ = 1\n",
    "α = 1\n",
    "Js = 100\n",
    "u(J) = u(J,α,Js)\n",
    "g(h,J) = u(norm(J)) - h ⋅ J"
   ]
  },
  {
   "cell_type": "code",
   "execution_count": 99,
   "id": "fe39c23f-540b-4617-9dd7-f8de76889e7c",
   "metadata": {},
   "outputs": [
    {
     "data": {
      "text/plain": [
       "2-element Vector{Float64}:\n",
       " 0.0\n",
       " 0.3"
      ]
     },
     "execution_count": 99,
     "metadata": {},
     "output_type": "execute_result"
    }
   ],
   "source": [
    "proxGrad((x) -> g([0,0],x),χ,mp,[0,0.5])"
   ]
  },
  {
   "cell_type": "code",
   "execution_count": 100,
   "id": "131a24e3-eb1e-4555-855e-442f605a23b2",
   "metadata": {},
   "outputs": [
    {
     "data": {
      "text/plain": [
       "2-element Vector{Float64}:\n",
       " 5.000056667822694e-5\n",
       " 3.0000340006936174e-5"
      ]
     },
     "execution_count": 100,
     "metadata": {},
     "output_type": "execute_result"
    }
   ],
   "source": [
    "ForwardDiff.gradient((x) -> g([0,0],x),[0.5,0.3])"
   ]
  },
  {
   "cell_type": "code",
   "execution_count": null,
   "id": "e2f4f68a-385b-4a60-8206-e274e8d85536",
   "metadata": {},
   "outputs": [],
   "source": []
  }
 ],
 "metadata": {
  "kernelspec": {
   "display_name": "Julia 1.8.0",
   "language": "julia",
   "name": "julia-1.8"
  },
  "language_info": {
   "file_extension": ".jl",
   "mimetype": "application/julia",
   "name": "julia",
   "version": "1.8.0"
  }
 },
 "nbformat": 4,
 "nbformat_minor": 5
}
