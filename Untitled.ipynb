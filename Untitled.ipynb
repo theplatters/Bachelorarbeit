{
 "cells": [
  {
   "cell_type": "code",
   "execution_count": 2,
   "id": "d76192a3-90d5-4ea6-8c4e-7d6231cddb4e",
   "metadata": {},
   "outputs": [],
   "source": [
    "using Plots, ForwardDiff,LinearAlgebra,Roots"
   ]
  },
  {
   "cell_type": "markdown",
   "id": "86ac4c57-6cc5-417d-947c-d6d94cb7b840",
   "metadata": {},
   "source": [
    "## Newton Verfahren"
   ]
  },
  {
   "cell_type": "code",
   "execution_count": 53,
   "id": "3f680820-c322-4376-acb6-74bf25a86076",
   "metadata": {},
   "outputs": [
    {
     "data": {
      "text/plain": [
       "newton (generic function with 2 methods)"
      ]
     },
     "execution_count": 53,
     "metadata": {},
     "output_type": "execute_result"
    }
   ],
   "source": [
    "function newton(f,x,eps = 10^-10)\n",
    "   \n",
    "    for i in 1:10\n",
    "        J = ForwardDiff.jacobian(f,x)\n",
    "        x = (J \\ -f(x)) + x\n",
    "    end\n",
    "    return x\n",
    "end"
   ]
  },
  {
   "cell_type": "markdown",
   "id": "962cb41e-58ca-4649-9a26-2664f68be649",
   "metadata": {},
   "source": [
    "## Jacobi Matrix der Transformation"
   ]
  },
  {
   "cell_type": "code",
   "execution_count": 4,
   "id": "295b5480-28f3-44f7-b7f0-1c951ca52b20",
   "metadata": {},
   "outputs": [
    {
     "data": {
      "text/plain": [
       "J (generic function with 1 method)"
      ]
     },
     "execution_count": 4,
     "metadata": {},
     "output_type": "execute_result"
    }
   ],
   "source": [
    "J(r,ϕ,θ) = \n",
    "    [[sin(θ)*cos(ϕ), r * cos(θ) * cos(ϕ), -r * sin(θ) * sin(ϕ)],\n",
    "    [sin(θ)* sin(ϕ),r * cos(θ) * sin(ϕ),r * sin(θ) * cos(ϕ)],\n",
    "    [cos(θ), -r * sin(θ),0]]"
   ]
  },
  {
   "cell_type": "markdown",
   "id": "f6fc7edf-2ec1-4e6d-bdf2-9a5b5d0eef92",
   "metadata": {},
   "source": [
    "## Funktionendefinitionen \n",
    "Definition der Funktionen $M_{an}$, $m$ und $\\nabla (S - \\langle m,m_p \\rangle)= m - m_p$ \n",
    "\n",
    "Außerdem wird das Problem auf dem Kreis parametrisiert. Wir haben $$\\nabla Prob(r \\sin \\phi \\cos \\psi,r \\sin \\phi \\sin \\psi,r \\cos \\phi) = (m(r \\sin \\phi \\cos \\psi,r \\sin \\phi \\sin \\psi,r \\cos \\phi)-m_p) J_{r,\\phi,\\psi}(r \\sin \\phi \\cos \\psi,r \\sin \\phi \\sin \\psi,r \\cos \\phi)$$"
   ]
  },
  {
   "cell_type": "code",
   "execution_count": 28,
   "id": "38ebe92d-0b2b-40ec-894e-8f463b7306ad",
   "metadata": {},
   "outputs": [
    {
     "data": {
      "text/plain": [
       "∇ProbOnBall (generic function with 2 methods)"
      ]
     },
     "execution_count": 28,
     "metadata": {},
     "output_type": "execute_result"
    }
   ],
   "source": [
    "Man(hr,ms,A) = 2ms/π * atan(hr/A)\n",
    "m(hr,ms,A) = Man(norm(hr),ms,A) * hr ./ norm(hr)\n",
    "m(hr) = m(hr,1.23*10^3,38)\n",
    "∇Prob(u,mp) = m(u) .- mp\n",
    "\n",
    "∇ProbOnBall(ϕ,θ,r,mp) = (m([r * sin(θ) * cos(ϕ),r * sin(θ) * sin(ϕ),r * cos(θ)]) .- mp)' * J(r,ϕ,θ)\n",
    "∇ProbOnBall(u,r,mp) = ∇ProbOnBall(u...,r,mp)"
   ]
  },
  {
   "cell_type": "code",
   "execution_count": 77,
   "id": "7bc94b0e-1e92-4408-8a80-567e37d623b3",
   "metadata": {},
   "outputs": [
    {
     "data": {
      "text/plain": [
       "2-element Vector{Float64}:\n",
       " -1.6585932334655984\n",
       " -0.534360439641686"
      ]
     },
     "execution_count": 77,
     "metadata": {},
     "output_type": "execute_result"
    }
   ],
   "source": [
    "res = newton((u) -> ∇ProbOnBall(u,1,100),[0.19,0.10])"
   ]
  },
  {
   "cell_type": "code",
   "execution_count": 79,
   "id": "cd9e4750-45b9-469c-b4d0-d7dfab7d9b01",
   "metadata": {},
   "outputs": [
    {
     "data": {
      "text/plain": [
       "3-element Vector{Float64}:\n",
       " -120.65641558342494\n",
       "   42.344956180561724\n",
       "   46.2672391086909"
      ]
     },
     "execution_count": 79,
     "metadata": {},
     "output_type": "execute_result"
    }
   ],
   "source": [
    "∇ProbOnBall(res,1,100)"
   ]
  },
  {
   "cell_type": "code",
   "execution_count": null,
   "id": "60f2465b-c1d2-472c-ac46-1ebc2f72b16a",
   "metadata": {},
   "outputs": [],
   "source": []
  }
 ],
 "metadata": {
  "kernelspec": {
   "display_name": "Julia 1.8.0",
   "language": "julia",
   "name": "julia-1.8"
  },
  "language_info": {
   "file_extension": ".jl",
   "mimetype": "application/julia",
   "name": "julia",
   "version": "1.8.0"
  }
 },
 "nbformat": 4,
 "nbformat_minor": 5
}
