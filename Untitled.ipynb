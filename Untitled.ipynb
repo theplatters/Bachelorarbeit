{
 "cells": [
  {
   "cell_type": "code",
   "execution_count": 27,
   "id": "d76192a3-90d5-4ea6-8c4e-7d6231cddb4e",
   "metadata": {},
   "outputs": [],
   "source": [
    "using Plots, ForwardDiff,LinearAlgebra"
   ]
  },
  {
   "cell_type": "markdown",
   "id": "86ac4c57-6cc5-417d-947c-d6d94cb7b840",
   "metadata": {},
   "source": [
    "## Newton Verfahren"
   ]
  },
  {
   "cell_type": "code",
   "execution_count": 183,
   "id": "3f680820-c322-4376-acb6-74bf25a86076",
   "metadata": {},
   "outputs": [
    {
     "data": {
      "text/plain": [
       "newton (generic function with 2 methods)"
      ]
     },
     "execution_count": 183,
     "metadata": {},
     "output_type": "execute_result"
    }
   ],
   "source": [
    "function newton(f,x,eps = 10^-10)\n",
    "   \n",
    "    for i in 1:400\n",
    "        J = ForwardDiff.jacobian(f,x)\n",
    "        x = (J \\ -f(x)) + x\n",
    "    end\n",
    "    return x\n",
    "end"
   ]
  },
  {
   "cell_type": "markdown",
   "id": "962cb41e-58ca-4649-9a26-2664f68be649",
   "metadata": {},
   "source": [
    "## Jacobi Matrix der Transformation"
   ]
  },
  {
   "cell_type": "code",
   "execution_count": 184,
   "id": "295b5480-28f3-44f7-b7f0-1c951ca52b20",
   "metadata": {},
   "outputs": [
    {
     "data": {
      "text/plain": [
       "J (generic function with 1 method)"
      ]
     },
     "execution_count": 184,
     "metadata": {},
     "output_type": "execute_result"
    }
   ],
   "source": [
    "J(r,ϕ,θ) = \n",
    "    [[sin(θ)*cos(ϕ), r * cos(θ) * cos(ϕ), -r * sin(θ) * sin(ϕ)],\n",
    "    [sin(θ)* sin(ϕ),r * cos(θ) * sin(ϕ),r * sin(θ) * cos(ϕ)],\n",
    "    [cos(θ), -r * sin(θ),0]]\n"
   ]
  },
  {
   "cell_type": "markdown",
   "id": "f6fc7edf-2ec1-4e6d-bdf2-9a5b5d0eef92",
   "metadata": {},
   "source": [
    "## Funktionendefinitionen \n",
    "Definition der Funktionen $M_{an}$, $m$ und $\\nabla (S - \\langle m,m_p \\rangle)= m - m_p$ \n",
    "\n",
    "Außerdem wird das Problem auf dem Kreis parametrisiert. Wir haben $$\\nabla S(r \\sin \\phi \\cos \\psi,r \\sin \\phi \\sin \\psi,r \\cos \\phi) = (m(r \\sin \\phi \\cos \\psi,r \\sin \\phi \\sin \\psi,r \\cos \\phi)-m_p) J_{r,\\phi,\\psi}(r \\sin \\phi \\cos \\psi,r \\sin \\phi \\sin \\psi,r \\cos \\phi)$$"
   ]
  },
  {
   "cell_type": "code",
   "execution_count": 185,
   "id": "38ebe92d-0b2b-40ec-894e-8f463b7306ad",
   "metadata": {},
   "outputs": [
    {
     "data": {
      "text/plain": [
       "∇ProbOnBall (generic function with 2 methods)"
      ]
     },
     "execution_count": 185,
     "metadata": {},
     "output_type": "execute_result"
    }
   ],
   "source": [
    "Man(hr,ms,A) = 2ms/π * atan(hr/A)\n",
    "m(hr,ms,A) = M(norm(hr),ms,A) * hr ./ norm(hr)\n",
    "m(hr) = m(hr,1.23*10^3,38)\n",
    "∇Prob(u,mp) = m(u) .- mp\n",
    "\n",
    "∇ProbOnBall(ϕ,θ,r,mp) = (m([r * sin(θ) * cos(ϕ),r * sin(θ) * sin(ϕ),r * cos(θ)]) .- mp)' * J(r,ϕ,θ)\n",
    "∇ProbOnBall(u,r,mp) = ∇ProbonBall(u...,r,mp)"
   ]
  },
  {
   "cell_type": "code",
   "execution_count": 186,
   "id": "7bc94b0e-1e92-4408-8a80-567e37d623b3",
   "metadata": {},
   "outputs": [
    {
     "data": {
      "text/plain": [
       "2-element Vector{Float64}:\n",
       "  471.5099284579311\n",
       " -207.0033962600788"
      ]
     },
     "execution_count": 186,
     "metadata": {},
     "output_type": "execute_result"
    }
   ],
   "source": [
    "res = newton((u) -> ∇ProbonBall(u,1,1),[0.19,0.10])"
   ]
  },
  {
   "cell_type": "code",
   "execution_count": 187,
   "id": "cd9e4750-45b9-469c-b4d0-d7dfab7d9b01",
   "metadata": {},
   "outputs": [
    {
     "data": {
      "text/plain": [
       "3-element Vector{Float64}:\n",
       " 19.24685147622411\n",
       " -0.8249237703076737\n",
       " -0.2331578390484197"
      ]
     },
     "execution_count": 187,
     "metadata": {},
     "output_type": "execute_result"
    }
   ],
   "source": [
    "∇ProbOnBall(res,1,1)"
   ]
  },
  {
   "cell_type": "code",
   "execution_count": null,
   "id": "276c322d-2a77-4b35-9be1-986543f5472e",
   "metadata": {},
   "outputs": [],
   "source": []
  }
 ],
 "metadata": {
  "kernelspec": {
   "display_name": "Julia 1.8.0",
   "language": "julia",
   "name": "julia-1.8"
  },
  "language_info": {
   "file_extension": ".jl",
   "mimetype": "application/julia",
   "name": "julia",
   "version": "1.8.0"
  }
 },
 "nbformat": 4,
 "nbformat_minor": 5
}
