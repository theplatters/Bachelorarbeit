{
 "cells": [
  {
   "cell_type": "code",
   "execution_count": 2,
   "id": "3f680820-c322-4376-acb6-74bf25a86076",
   "metadata": {},
   "outputs": [
    {
     "data": {
      "text/plain": [
       "newton (generic function with 2 methods)"
      ]
     },
     "execution_count": 2,
     "metadata": {},
     "output_type": "execute_result"
    }
   ],
   "source": [
    "function newton(f,eps = 10^-10)\n",
    "   eps \n",
    "end"
   ]
  },
  {
   "cell_type": "code",
   "execution_count": 6,
   "id": "38ebe92d-0b2b-40ec-894e-8f463b7306ad",
   "metadata": {},
   "outputs": [
    {
     "data": {
      "text/plain": [
       "M (generic function with 2 methods)"
      ]
     },
     "execution_count": 6,
     "metadata": {},
     "output_type": "execute_result"
    }
   ],
   "source": [
    "M(hr,ms,A) = 2ms/π * atan(hr/A)"
   ]
  }
 ],
 "metadata": {
  "kernelspec": {
   "display_name": "Julia 1.8.0",
   "language": "julia",
   "name": "julia-1.8"
  },
  "language_info": {
   "file_extension": ".jl",
   "mimetype": "application/julia",
   "name": "julia",
   "version": "1.8.0"
  }
 },
 "nbformat": 4,
 "nbformat_minor": 5
}
