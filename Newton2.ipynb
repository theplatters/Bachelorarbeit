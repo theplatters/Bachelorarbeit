{
 "cells": [
  {
   "cell_type": "code",
   "execution_count": 1,
   "metadata": {},
   "outputs": [],
   "source": [
    "include(\"wrapper.jl\")\n",
    "using .Hysteresis\n",
    "using LinearAlgebra"
   ]
  },
  {
   "cell_type": "code",
   "execution_count": 2,
   "metadata": {},
   "outputs": [],
   "source": [
    "A = diagm([5.0, 3.0, 2.0]);\n",
    "b = [1.0 , 2.0 , 3.0];\n",
    "χ = 1;\n",
    "\n",
    "h = mₚ = [1.0, 2.0, 3.0];"
   ]
  },
  {
   "cell_type": "code",
   "execution_count": 3,
   "metadata": {},
   "outputs": [],
   "source": [
    "S(m) = 0.5 * (m - b)' * inv(A) * (m - b) - 5;"
   ]
  },
  {
   "cell_type": "code",
   "execution_count": 4,
   "metadata": {},
   "outputs": [
    {
     "data": {
      "text/plain": [
       "∂²U (generic function with 1 method)"
      ]
     },
     "metadata": {},
     "output_type": "display_data"
    }
   ],
   "source": [
    "U(u) = u' * A * u + b' * u + 5;\n",
    "∂U(u) = A * u + b\n",
    "∂²U(u) = A"
   ]
  },
  {
   "cell_type": "code",
   "execution_count": 5,
   "metadata": {},
   "outputs": [],
   "source": [
    "restrainedProblem = RestrainedProblem(χ, h , mₚ, S)\n",
    "x0 = zeros(3)\n",
    "\n",
    "intfRes = Interface(restrainedProblem,x0);"
   ]
  },
  {
   "cell_type": "code",
   "execution_count": 6,
   "metadata": {},
   "outputs": [
    {
     "name": "stdout",
     "output_type": "stream",
     "text": [
      "Converged after 4 Iterations with error 1.7085044840333034e-16\n",
      "Converged to [1.284520303215772, 2.548242458366196, 3.786433979366733]\n",
      "∂S at the minium: [0.05690406064315439, 0.18274748612206526, 0.3932169896833666]\n"
     ]
    }
   ],
   "source": [
    "sol = solve(intfRes)\n",
    "\n",
    "if(!sol.convergent)\n",
    "    println(\"Solution did not converge\")\n",
    "    printn(\"Failed after $(sol.iter) Iterations with error $(sol.err)\")\n",
    "else\n",
    "    println(\"Converged after $(sol.iter) Iterations with error $(sol.err)\")\n",
    "    println(\"Converged to $(sol.xk)\")\n",
    "\n",
    "    println(\"∂S at the minium: $(restrainedProblem.∂S(sol.xk))\")\n",
    "end"
   ]
  },
  {
   "cell_type": "code",
   "execution_count": 7,
   "metadata": {},
   "outputs": [],
   "source": [
    "unrestrainedProblem = UnrestrainedProblem(χ, h , mₚ, U,jac = ∂U, hes = ∂²U);\n",
    "x0 = [200.0, 200.0, 200.0];\n",
    "\n",
    "intfUnres = Interface(unrestrainedProblem,x0);"
   ]
  },
  {
   "cell_type": "code",
   "execution_count": 8,
   "metadata": {},
   "outputs": [
    {
     "name": "stdout",
     "output_type": "stream",
     "text": [
      "Converged after 41 Iterations with error 6.063738251462063e-11\n",
      "Converged to [0.056904060643478194, 0.18274748612382763, 0.3932169897121396]\n",
      "∂S at the minium: [1.2845203032173909, 2.548242458371483, 3.786433979424279]\n"
     ]
    }
   ],
   "source": [
    "sol = solve(intfUnres)\n",
    "\n",
    "if(!sol.convergent)\n",
    "    println(\"Solution did not converge\")\n",
    "    println(\"Failed after $(sol.iter) Iterations with error $(sol.err)\")\n",
    "else\n",
    "    println(\"Converged after $(sol.iter) Iterations with error $(sol.err)\")\n",
    "    println(\"Converged to $(sol.xk)\")\n",
    "\n",
    "    println(\"∂S at the minium: $(unrestrainedProblem.∂U(sol.xk))\")\n",
    "end"
   ]
  },
  {
   "cell_type": "code",
   "execution_count": 9,
   "metadata": {},
   "outputs": [],
   "source": []
  }
 ],
 "metadata": {
  "kernelspec": {
   "display_name": "Julia 1.9.0",
   "language": "julia",
   "name": "julia-1.9"
  },
  "language_info": {
   "file_extension": ".jl",
   "mimetype": "application/julia",
   "name": "julia",
   "version": "1.9.0"
  },
  "orig_nbformat": 4
 },
 "nbformat": 4,
 "nbformat_minor": 2
}
