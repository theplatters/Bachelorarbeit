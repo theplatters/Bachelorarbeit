{
 "cells": [
  {
   "cell_type": "code",
   "execution_count": 1,
   "metadata": {},
   "outputs": [],
   "source": [
    "include(\"wrapper.jl\")\n",
    "using .Hysteresis\n",
    "using LinearAlgebra"
   ]
  },
  {
   "cell_type": "code",
   "execution_count": 2,
   "metadata": {},
   "outputs": [],
   "source": [
    "A = diagm([5.0, 3.0, 2.0]);\n",
    "b = [1.0 , 2.0 , 3.0];\n",
    "mₚ = rand(3);\n",
    "h = rand(3);\n",
    "χ = 1;"
   ]
  },
  {
   "cell_type": "code",
   "execution_count": 3,
   "metadata": {},
   "outputs": [],
   "source": [
    "S(m) = 0.5 * (m - b)' * inv(A) * (m - b) - 5;"
   ]
  },
  {
   "cell_type": "code",
   "execution_count": 4,
   "metadata": {},
   "outputs": [
    {
     "data": {
      "text/plain": [
       "∂²U (generic function with 1 method)"
      ]
     },
     "metadata": {},
     "output_type": "display_data"
    }
   ],
   "source": [
    "U(u) = u' * A * u + b' * u + 5;\n",
    "∂U(u) = A * u + b\n",
    "∂²U(u) = A"
   ]
  },
  {
   "cell_type": "code",
   "execution_count": 13,
   "metadata": {},
   "outputs": [
    {
     "data": {
      "text/plain": [
       "Interface{RestrainedProblem}(RestrainedProblem(1.0, [0.8546919020486101, 0.39374019531632365, 0.5036676631611252], [0.414527067768632, 0.7792832580421944, 0.6513359998033105], S, Main.Hysteresis.var\"#jac#2\"{typeof(S)}(S), Main.Hysteresis.var\"#hes#3\"{typeof(S)}(S), Main.Hysteresis.var\"#obj#5\"{Vector{Float64}, typeof(S)}([0.414527067768632, 0.7792832580421944, 0.6513359998033105], S), Main.Hysteresis.var\"#∇obj#6\"{Vector{Float64}}([0.414527067768632, 0.7792832580421944, 0.6513359998033105], Core.Box(Main.Hysteresis.var\"#jac#2\"{typeof(S)}(S))), Main.Hysteresis.var\"#hes#3\"{typeof(S)}(S), Main.Hysteresis.var\"#objᵩ#7\"{Int64, Vector{Float64}, Main.Hysteresis.var\"#obj#5\"{Vector{Float64}, typeof(S)}, Main.Hysteresis.var\"#transformToEuklidean#4\"}(1, [0.8546919020486101, 0.39374019531632365, 0.5036676631611252], Main.Hysteresis.var\"#obj#5\"{Vector{Float64}, typeof(S)}([0.414527067768632, 0.7792832580421944, 0.6513359998033105], S), Main.Hysteresis.var\"#transformToEuklidean#4\"()), Main.Hysteresis.var\"#∇objᵩ#8\"{Main.Hysteresis.var\"#objᵩ#7\"{Int64, Vector{Float64}, Main.Hysteresis.var\"#obj#5\"{Vector{Float64}, typeof(S)}, Main.Hysteresis.var\"#transformToEuklidean#4\"}}(Main.Hysteresis.var\"#objᵩ#7\"{Int64, Vector{Float64}, Main.Hysteresis.var\"#obj#5\"{Vector{Float64}, typeof(S)}, Main.Hysteresis.var\"#transformToEuklidean#4\"}(1, [0.8546919020486101, 0.39374019531632365, 0.5036676631611252], Main.Hysteresis.var\"#obj#5\"{Vector{Float64}, typeof(S)}([0.414527067768632, 0.7792832580421944, 0.6513359998033105], S), Main.Hysteresis.var\"#transformToEuklidean#4\"())), Main.Hysteresis.var\"#∇²objᵩ#9\"{Main.Hysteresis.var\"#objᵩ#7\"{Int64, Vector{Float64}, Main.Hysteresis.var\"#obj#5\"{Vector{Float64}, typeof(S)}, Main.Hysteresis.var\"#transformToEuklidean#4\"}}(Main.Hysteresis.var\"#objᵩ#7\"{Int64, Vector{Float64}, Main.Hysteresis.var\"#obj#5\"{Vector{Float64}, typeof(S)}, Main.Hysteresis.var\"#transformToEuklidean#4\"}(1, [0.8546919020486101, 0.39374019531632365, 0.5036676631611252], Main.Hysteresis.var\"#obj#5\"{Vector{Float64}, typeof(S)}([0.414527067768632, 0.7792832580421944, 0.6513359998033105], S), Main.Hysteresis.var\"#transformToEuklidean#4\"()))), [0.0, 0.0, 0.0], [0.0, 0.0, 0.0], Inf)"
      ]
     },
     "metadata": {},
     "output_type": "display_data"
    }
   ],
   "source": [
    "restrainedProblem = RestrainedProblem(χ, h , mₚ, S)\n",
    "x0 = zeros(3)\n",
    "\n",
    "intfRes = Interface(restrainedProblem,x0)"
   ]
  },
  {
   "cell_type": "code",
   "execution_count": 14,
   "metadata": {},
   "outputs": [
    {
     "data": {
      "text/plain": [
       "Main.Hysteresis.Solution(RestrainedProblem(1.0, [0.8546919020486101, 0.39374019531632365, 0.5036676631611252], [0.414527067768632, 0.7792832580421944, 0.6513359998033105], S, Main.Hysteresis.var\"#jac#2\"{typeof(S)}(S), Main.Hysteresis.var\"#hes#3\"{typeof(S)}(S), Main.Hysteresis.var\"#obj#5\"{Vector{Float64}, typeof(S)}([0.414527067768632, 0.7792832580421944, 0.6513359998033105], S), Main.Hysteresis.var\"#∇obj#6\"{Vector{Float64}}([0.414527067768632, 0.7792832580421944, 0.6513359998033105], Core.Box(Main.Hysteresis.var\"#jac#2\"{typeof(S)}(S))), Main.Hysteresis.var\"#hes#3\"{typeof(S)}(S), Main.Hysteresis.var\"#objᵩ#7\"{Int64, Vector{Float64}, Main.Hysteresis.var\"#obj#5\"{Vector{Float64}, typeof(S)}, Main.Hysteresis.var\"#transformToEuklidean#4\"}(1, [0.8546919020486101, 0.39374019531632365, 0.5036676631611252], Main.Hysteresis.var\"#obj#5\"{Vector{Float64}, typeof(S)}([0.414527067768632, 0.7792832580421944, 0.6513359998033105], S), Main.Hysteresis.var\"#transformToEuklidean#4\"()), Main.Hysteresis.var\"#∇objᵩ#8\"{Main.Hysteresis.var\"#objᵩ#7\"{Int64, Vector{Float64}, Main.Hysteresis.var\"#obj#5\"{Vector{Float64}, typeof(S)}, Main.Hysteresis.var\"#transformToEuklidean#4\"}}(Main.Hysteresis.var\"#objᵩ#7\"{Int64, Vector{Float64}, Main.Hysteresis.var\"#obj#5\"{Vector{Float64}, typeof(S)}, Main.Hysteresis.var\"#transformToEuklidean#4\"}(1, [0.8546919020486101, 0.39374019531632365, 0.5036676631611252], Main.Hysteresis.var\"#obj#5\"{Vector{Float64}, typeof(S)}([0.414527067768632, 0.7792832580421944, 0.6513359998033105], S), Main.Hysteresis.var\"#transformToEuklidean#4\"())), Main.Hysteresis.var\"#∇²objᵩ#9\"{Main.Hysteresis.var\"#objᵩ#7\"{Int64, Vector{Float64}, Main.Hysteresis.var\"#obj#5\"{Vector{Float64}, typeof(S)}, Main.Hysteresis.var\"#transformToEuklidean#4\"}}(Main.Hysteresis.var\"#objᵩ#7\"{Int64, Vector{Float64}, Main.Hysteresis.var\"#obj#5\"{Vector{Float64}, typeof(S)}, Main.Hysteresis.var\"#transformToEuklidean#4\"}(1, [0.8546919020486101, 0.39374019531632365, 0.5036676631611252], Main.Hysteresis.var\"#obj#5\"{Vector{Float64}, typeof(S)}([0.414527067768632, 0.7792832580421944, 0.6513359998033105], S), Main.Hysteresis.var\"#transformToEuklidean#4\"()))), [1.0638983028326823, 0.9771003515066823, 1.2884756715558756], 2.830524433501838e-16, true)"
      ]
     },
     "metadata": {},
     "output_type": "display_data"
    }
   ],
   "source": [
    "sol = solve(intfRes)"
   ]
  },
  {
   "cell_type": "code",
   "execution_count": 37,
   "metadata": {},
   "outputs": [
    {
     "name": "stdout",
     "output_type": "stream",
     "text": [
      "Base.Pairs{Symbol, Function, Tuple{Symbol, Symbol}, NamedTuple{(:jac, :hes), Tuple{typeof(∂U), typeof(∂²U)}}}(:jac => ∂U, :hes => ∂²U)\n"
     ]
    },
    {
     "data": {
      "text/plain": [
       "Interface{UnrestrainedProblem}(UnrestrainedProblem(1.0, [0.8546919020486101, 0.39374019531632365, 0.5036676631611252], [0.414527067768632, 0.7792832580421944, 0.6513359998033105], U, ∂U, ∂²U, Main.Hysteresis.var\"#diffPart#13\"{Vector{Float64}, typeof(U)}([0.8546919020486101, 0.39374019531632365, 0.5036676631611252], U), Main.Hysteresis.var\"#∇diffPart#14\"{Vector{Float64}}([0.8546919020486101, 0.39374019531632365, 0.5036676631611252], Core.Box(∂U)), Main.Hysteresis.var\"#obj#15\"{Int64, Vector{Float64}, Vector{Float64}, typeof(U)}(1, [0.8546919020486101, 0.39374019531632365, 0.5036676631611252], [0.414527067768632, 0.7792832580421944, 0.6513359998033105], U), Main.Hysteresis.var\"#∇obj#16\"{Int64, Vector{Float64}, Vector{Float64}, typeof(U)}(1, [0.8546919020486101, 0.39374019531632365, 0.5036676631611252], [0.414527067768632, 0.7792832580421944, 0.6513359998033105], U), Main.Hysteresis.var\"#∇²obj#17\"{Main.Hysteresis.var\"#obj#15\"{Int64, Vector{Float64}, Vector{Float64}, typeof(U)}}(Main.Hysteresis.var\"#obj#15\"{Int64, Vector{Float64}, Vector{Float64}, typeof(U)}(1, [0.8546919020486101, 0.39374019531632365, 0.5036676631611252], [0.414527067768632, 0.7792832580421944, 0.6513359998033105], U))), [0.0, 0.0, 0.0], [0.0, 0.0, 0.0], Inf)"
      ]
     },
     "metadata": {},
     "output_type": "display_data"
    }
   ],
   "source": [
    "unrestrainedProblem = UnrestrainedProblem(χ, h , mₚ, U,jac = ∂U, hes = ∂²U)\n",
    "x0 = zeros(3)\n",
    "\n",
    "intfUnres = Interface(unrestrainedProblem,x0)"
   ]
  },
  {
   "cell_type": "code",
   "execution_count": 39,
   "metadata": {},
   "outputs": [
    {
     "data": {
      "text/plain": [
       "Main.Hysteresis.Solution(UnrestrainedProblem(1.0, [0.8546919020486101, 0.39374019531632365, 0.5036676631611252], [0.414527067768632, 0.7792832580421944, 0.6513359998033105], U, ∂U, ∂²U, Main.Hysteresis.var\"#diffPart#13\"{Vector{Float64}, typeof(U)}([0.8546919020486101, 0.39374019531632365, 0.5036676631611252], U), Main.Hysteresis.var\"#∇diffPart#14\"{Vector{Float64}}([0.8546919020486101, 0.39374019531632365, 0.5036676631611252], Core.Box(∂U)), Main.Hysteresis.var\"#obj#15\"{Int64, Vector{Float64}, Vector{Float64}, typeof(U)}(1, [0.8546919020486101, 0.39374019531632365, 0.5036676631611252], [0.414527067768632, 0.7792832580421944, 0.6513359998033105], U), Main.Hysteresis.var\"#∇obj#16\"{Int64, Vector{Float64}, Vector{Float64}, typeof(U)}(1, [0.8546919020486101, 0.39374019531632365, 0.5036676631611252], [0.414527067768632, 0.7792832580421944, 0.6513359998033105], U), Main.Hysteresis.var\"#∇²obj#17\"{Main.Hysteresis.var\"#obj#15\"{Int64, Vector{Float64}, Vector{Float64}, typeof(U)}}(Main.Hysteresis.var\"#obj#15\"{Int64, Vector{Float64}, Vector{Float64}, typeof(U)}(1, [0.8546919020486101, 0.39374019531632365, 0.5036676631611252], [0.414527067768632, 0.7792832580421944, 0.6513359998033105], U))), [0.02332947674956448, -0.16512532303080318, -0.31889028485439563], 0.5445978738338565, false)"
      ]
     },
     "metadata": {},
     "output_type": "display_data"
    }
   ],
   "source": [
    "solUnres = solve(intfUnres)"
   ]
  },
  {
   "cell_type": "code",
   "execution_count": 40,
   "metadata": {},
   "outputs": [
    {
     "data": {
      "text/plain": [
       "3-element Vector{Float64}:\n",
       "  0.10103083643554672\n",
       " -0.054591878700021135\n",
       "  0.5323526472682305"
      ]
     },
     "metadata": {},
     "output_type": "display_data"
    }
   ],
   "source": [
    "unrestrainedProblem.∇obj(solUnres.xk)"
   ]
  },
  {
   "cell_type": "code",
   "execution_count": null,
   "metadata": {},
   "outputs": [],
   "source": []
  }
 ],
 "metadata": {
  "kernelspec": {
   "display_name": "Julia 1.9.0",
   "language": "julia",
   "name": "julia-1.9"
  },
  "language_info": {
   "file_extension": ".jl",
   "mimetype": "application/julia",
   "name": "julia",
   "version": "1.9.0"
  },
  "orig_nbformat": 4
 },
 "nbformat": 4,
 "nbformat_minor": 2
}
