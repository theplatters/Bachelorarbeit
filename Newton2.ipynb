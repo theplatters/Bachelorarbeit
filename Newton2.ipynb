{
 "cells": [
  {
   "cell_type": "code",
   "execution_count": 2,
   "metadata": {},
   "outputs": [],
   "source": [
    "using ModelingToolkit, Optimization, LinearAlgebra"
   ]
  },
  {
   "cell_type": "code",
   "execution_count": 16,
   "metadata": {},
   "outputs": [
    {
     "ename": "DimensionMismatch",
     "evalue": "DimensionMismatch: number of cols of each array must match (got 1 and 3)",
     "output_type": "error",
     "traceback": [
      "DimensionMismatch: number of cols of each array must match (got 1 and 3)\n",
      "\n",
      "Stacktrace:\n",
      " [1] _vcat(::Symbolics.Arr{Num, 1}, ::Vararg{Union{Number, UniformScaling, AbstractVecOrMat}}; array_type::Type)\n",
      "   @ LinearAlgebra /usr/share/julia/stdlib/v1.8/LinearAlgebra/src/uniformscaling.jl:416\n",
      " [2] _vcat(::Symbolics.Arr{Num, 1}, ::Vararg{Union{Number, UniformScaling, AbstractVecOrMat}})\n",
      "   @ LinearAlgebra /usr/share/julia/stdlib/v1.8/LinearAlgebra/src/uniformscaling.jl:410\n",
      " [3] vcat(::Symbolics.Arr{Num, 1}, ::Symbolics.Arr{Num, 1}, ::Num, ::Vararg{Union{Number, UniformScaling, AbstractVecOrMat}})\n",
      "   @ LinearAlgebra /usr/share/julia/stdlib/v1.8/LinearAlgebra/src/uniformscaling.jl:409\n",
      " [4] top-level scope\n",
      "   @ ~/.julia/packages/ModelingToolkit/FbXPg/src/systems/abstractsystem.jl:971"
     ]
    }
   ],
   "source": [
    "vars = @variables u[1:3]\n",
    "params = @parameters mₚ[1:3] h[1:3] χ A[1:3, 1:3] b[1:3] c\n",
    "\n",
    "obj = 0.5 * (collect((u- b)') * collect(A) * collect((u -b)))[1] -c\n",
    "cons = [norm(collect(u - h)) ≲ χ]\n",
    "\n",
    "@named os = OptimizationSystem(obj,[vars...;],[params...;],constraints = cons)"
   ]
  },
  {
   "cell_type": "code",
   "execution_count": 17,
   "metadata": {},
   "outputs": [
    {
     "ename": "MethodError",
     "evalue": "MethodError: no method matching calculate_gradient(::Num)\nClosest candidates are:\n  calculate_gradient(!Matched::OptimizationSystem) at ~/.julia/packages/ModelingToolkit/FbXPg/src/systems/optimization/optimizationsystem.jl:118",
     "output_type": "error",
     "traceback": [
      "MethodError: no method matching calculate_gradient(::Num)\n",
      "Closest candidates are:\n",
      "  calculate_gradient(!Matched::OptimizationSystem) at ~/.julia/packages/ModelingToolkit/FbXPg/src/systems/optimization/optimizationsystem.jl:118\n",
      "\n",
      "Stacktrace:\n",
      " [1] top-level scope\n",
      "   @ ~/Schreibtisch/Programming/Bachelorarbeit/Newton2.ipynb:1"
     ]
    }
   ],
   "source": [
    "calculate_gradient(obj)"
   ]
  },
  {
   "cell_type": "code",
   "execution_count": 11,
   "metadata": {},
   "outputs": [
    {
     "data": {
      "text/latex": [
       "$$ \\begin{equation}\n",
       "\\left(  - b_1 + u_1 \\right) \\left( \\left(  - b_1 + u_1 \\right) A_{1}ˏ_1 + \\left(  - b_2 + u_2 \\right) A_{1}ˏ_2 + \\left(  - b_3 + u_3 \\right) A_{1}ˏ_3 \\right) + \\left(  - b_2 + u_2 \\right) \\left( \\left(  - b_1 + u_1 \\right) A_{2}ˏ_1 + \\left(  - b_2 + u_2 \\right) A_{2}ˏ_2 + \\left(  - b_3 + u_3 \\right) A_{2}ˏ_3 \\right) + \\left(  - b_3 + u_3 \\right) \\left( \\left(  - b_1 + u_1 \\right) A_{3}ˏ_1 + \\left(  - b_2 + u_2 \\right) A_{3}ˏ_2 + \\left(  - b_3 + u_3 \\right) A_{3}ˏ_3 \\right)\n",
       "\\end{equation}\n",
       " $$"
      ],
      "text/plain": [
       "(u[1] - b[1])*((u[1] - b[1])*A[1, 1] + (u[2] - b[2])*A[1, 2] + (u[3] - b[3])*A[1, 3]) + (u[2] - b[2])*((u[1] - b[1])*A[2, 1] + (u[2] - b[2])*A[2, 2] + (u[3] - b[3])*A[2, 3]) + (u[3] - b[3])*((u[1] - b[1])*A[3, 1] + (u[2] - b[2])*A[3, 2] + (u[3] - b[3])*A[3, 3])"
      ]
     },
     "metadata": {},
     "output_type": "display_data"
    }
   ],
   "source": [
    "(collect((u- b)') * collect(A) * collect((u -b)))[1]\n"
   ]
  },
  {
   "cell_type": "code",
   "execution_count": 14,
   "metadata": {},
   "outputs": [
    {
     "data": {
      "text/latex": [
       "$$ \\begin{equation}\n",
       "\\sqrt{\\left| - h_1 + u_1\\right|^{2} + \\left| - h_2 + u_2\\right|^{2} + \\left| - h_3 + u_3\\right|^{2}}\n",
       "\\end{equation}\n",
       " $$"
      ],
      "text/plain": [
       "sqrt(abs2(u[1] - h[1]) + abs2(u[2] - h[2]) + abs2(u[3] - h[3]))"
      ]
     },
     "metadata": {},
     "output_type": "display_data"
    }
   ],
   "source": [
    "norm(collect(u - h))"
   ]
  },
  {
   "cell_type": "code",
   "execution_count": null,
   "metadata": {},
   "outputs": [],
   "source": []
  }
 ],
 "metadata": {
  "kernelspec": {
   "display_name": "Julia 1.8.0",
   "language": "julia",
   "name": "julia-1.8"
  },
  "language_info": {
   "file_extension": ".jl",
   "mimetype": "application/julia",
   "name": "julia",
   "version": "1.8.0"
  },
  "orig_nbformat": 4
 },
 "nbformat": 4,
 "nbformat_minor": 2
}
