{
 "cells": [
  {
   "cell_type": "code",
   "execution_count": 5,
   "metadata": {},
   "outputs": [],
   "source": [
    "using ModelingToolkit, Optimization, LinearAlgebra"
   ]
  },
  {
   "cell_type": "code",
   "execution_count": 71,
   "metadata": {},
   "outputs": [
    {
     "data": {
      "text/plain": [
       "f (generic function with 2 methods)"
      ]
     },
     "metadata": {},
     "output_type": "display_data"
    }
   ],
   "source": [
    "vars = @variables u[1:3]\n",
    "params = @parameters mₚ[1:3] h[1:3] χ A[1:3, 1:3] b[1:3] c\n",
    "\n",
    "f(u,b,A,c) = 0.5 * ((u- b)' * A * (u -b)) -c\n",
    "\n",
    "#obj = f(u,b,A)\n",
    "#cons = [norm(u - h) ≲ χ]\n",
    "\n",
    "#@named os = OptimizationSystem(obj,[vars...;],[params...;],constraints = cons)"
   ]
  },
  {
   "cell_type": "code",
   "execution_count": 70,
   "metadata": {},
   "outputs": [
    {
     "ename": "MethodError",
     "evalue": "MethodError: no method matching calculate_gradient(::Num)\nClosest candidates are:\n  calculate_gradient(!Matched::OptimizationSystem) at ~/.julia/packages/ModelingToolkit/FbXPg/src/systems/optimization/optimizationsystem.jl:118",
     "output_type": "error",
     "traceback": [
      "MethodError: no method matching calculate_gradient(::Num)\n",
      "Closest candidates are:\n",
      "  calculate_gradient(!Matched::OptimizationSystem) at ~/.julia/packages/ModelingToolkit/FbXPg/src/systems/optimization/optimizationsystem.jl:118\n",
      "\n",
      "Stacktrace:\n",
      " [1] top-level scope\n",
      "   @ ~/Schreibtisch/Programming/Bachelorarbeit/Newton2.ipynb:1"
     ]
    }
   ],
   "source": [
    "calculate_gradient(obj)"
   ]
  },
  {
   "cell_type": "code",
   "execution_count": null,
   "metadata": {},
   "outputs": [],
   "source": []
  }
 ],
 "metadata": {
  "kernelspec": {
   "display_name": "Julia 1.8.0",
   "language": "julia",
   "name": "julia-1.8"
  },
  "language_info": {
   "file_extension": ".jl",
   "mimetype": "application/julia",
   "name": "julia",
   "version": "1.8.0"
  },
  "orig_nbformat": 4
 },
 "nbformat": 4,
 "nbformat_minor": 2
}
