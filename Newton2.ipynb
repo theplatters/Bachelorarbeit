{
 "cells": [
  {
   "cell_type": "code",
   "execution_count": 1,
   "metadata": {},
   "outputs": [],
   "source": [
    "include(\"wrapper.jl\")\n",
    "using .Hysteresis\n",
    "using LinearAlgebra"
   ]
  },
  {
   "cell_type": "code",
   "execution_count": 46,
   "metadata": {},
   "outputs": [],
   "source": [
    "A = diagm([5.0, 3.0, 2.0]);\n",
    "b = [1.0 , 2.0 , 3.0];\n",
    "mₚ = zeros(3);\n",
    "h = zeros(3);\n",
    "χ = 1;"
   ]
  },
  {
   "cell_type": "code",
   "execution_count": 47,
   "metadata": {},
   "outputs": [],
   "source": [
    "S(m) = 0.5 * (m - b)' * inv(A) * (m - b) - 5;"
   ]
  },
  {
   "cell_type": "code",
   "execution_count": 48,
   "metadata": {},
   "outputs": [
    {
     "data": {
      "text/plain": [
       "∂²U (generic function with 1 method)"
      ]
     },
     "metadata": {},
     "output_type": "display_data"
    }
   ],
   "source": [
    "U(u) = u' * A * u + b' * u + 5;\n",
    "∂U(u) = A * u + b\n",
    "∂²U(u) = A"
   ]
  },
  {
   "cell_type": "code",
   "execution_count": 49,
   "metadata": {},
   "outputs": [
    {
     "data": {
      "text/plain": [
       "Interface{RestrainedProblem}(RestrainedProblem(1.0, [0.0, 0.0, 0.0], [0.0, 0.0, 0.0], S, Main.Hysteresis.var\"#jac#2\"{typeof(S)}(S), Main.Hysteresis.var\"#hes#3\"{typeof(S)}(S), Main.Hysteresis.var\"#obj#5\"{Vector{Float64}, typeof(S)}([0.0, 0.0, 0.0], S), Main.Hysteresis.var\"#∇obj#6\"{Vector{Float64}}([0.0, 0.0, 0.0], Core.Box(Main.Hysteresis.var\"#jac#2\"{typeof(S)}(S))), Main.Hysteresis.var\"#hes#3\"{typeof(S)}(S), Main.Hysteresis.var\"#objᵩ#7\"{Int64, Vector{Float64}, Main.Hysteresis.var\"#obj#5\"{Vector{Float64}, typeof(S)}, Main.Hysteresis.var\"#transformToEuklidean#4\"}(1, [0.0, 0.0, 0.0], Main.Hysteresis.var\"#obj#5\"{Vector{Float64}, typeof(S)}([0.0, 0.0, 0.0], S), Main.Hysteresis.var\"#transformToEuklidean#4\"()), Main.Hysteresis.var\"#∇objᵩ#8\"{Main.Hysteresis.var\"#objᵩ#7\"{Int64, Vector{Float64}, Main.Hysteresis.var\"#obj#5\"{Vector{Float64}, typeof(S)}, Main.Hysteresis.var\"#transformToEuklidean#4\"}}(Main.Hysteresis.var\"#objᵩ#7\"{Int64, Vector{Float64}, Main.Hysteresis.var\"#obj#5\"{Vector{Float64}, typeof(S)}, Main.Hysteresis.var\"#transformToEuklidean#4\"}(1, [0.0, 0.0, 0.0], Main.Hysteresis.var\"#obj#5\"{Vector{Float64}, typeof(S)}([0.0, 0.0, 0.0], S), Main.Hysteresis.var\"#transformToEuklidean#4\"())), Main.Hysteresis.var\"#∇²objᵩ#9\"{Main.Hysteresis.var\"#objᵩ#7\"{Int64, Vector{Float64}, Main.Hysteresis.var\"#obj#5\"{Vector{Float64}, typeof(S)}, Main.Hysteresis.var\"#transformToEuklidean#4\"}}(Main.Hysteresis.var\"#objᵩ#7\"{Int64, Vector{Float64}, Main.Hysteresis.var\"#obj#5\"{Vector{Float64}, typeof(S)}, Main.Hysteresis.var\"#transformToEuklidean#4\"}(1, [0.0, 0.0, 0.0], Main.Hysteresis.var\"#obj#5\"{Vector{Float64}, typeof(S)}([0.0, 0.0, 0.0], S), Main.Hysteresis.var\"#transformToEuklidean#4\"()))), [0.0, 0.0, 0.0], [0.0, 0.0, 0.0], Inf)"
      ]
     },
     "metadata": {},
     "output_type": "display_data"
    }
   ],
   "source": [
    "restrainedProblem = RestrainedProblem(χ, h , mₚ, S)\n",
    "x0 = zeros(3)\n",
    "\n",
    "intfRes = Interface(restrainedProblem,x0)"
   ]
  },
  {
   "cell_type": "code",
   "execution_count": 50,
   "metadata": {},
   "outputs": [
    {
     "data": {
      "text/plain": [
       "Main.Hysteresis.Solution(RestrainedProblem(1.0, [0.0, 0.0, 0.0], [0.0, 0.0, 0.0], S, Main.Hysteresis.var\"#jac#2\"{typeof(S)}(S), Main.Hysteresis.var\"#hes#3\"{typeof(S)}(S), Main.Hysteresis.var\"#obj#5\"{Vector{Float64}, typeof(S)}([0.0, 0.0, 0.0], S), Main.Hysteresis.var\"#∇obj#6\"{Vector{Float64}}([0.0, 0.0, 0.0], Core.Box(Main.Hysteresis.var\"#jac#2\"{typeof(S)}(S))), Main.Hysteresis.var\"#hes#3\"{typeof(S)}(S), Main.Hysteresis.var\"#objᵩ#7\"{Int64, Vector{Float64}, Main.Hysteresis.var\"#obj#5\"{Vector{Float64}, typeof(S)}, Main.Hysteresis.var\"#transformToEuklidean#4\"}(1, [0.0, 0.0, 0.0], Main.Hysteresis.var\"#obj#5\"{Vector{Float64}, typeof(S)}([0.0, 0.0, 0.0], S), Main.Hysteresis.var\"#transformToEuklidean#4\"()), Main.Hysteresis.var\"#∇objᵩ#8\"{Main.Hysteresis.var\"#objᵩ#7\"{Int64, Vector{Float64}, Main.Hysteresis.var\"#obj#5\"{Vector{Float64}, typeof(S)}, Main.Hysteresis.var\"#transformToEuklidean#4\"}}(Main.Hysteresis.var\"#objᵩ#7\"{Int64, Vector{Float64}, Main.Hysteresis.var\"#obj#5\"{Vector{Float64}, typeof(S)}, Main.Hysteresis.var\"#transformToEuklidean#4\"}(1, [0.0, 0.0, 0.0], Main.Hysteresis.var\"#obj#5\"{Vector{Float64}, typeof(S)}([0.0, 0.0, 0.0], S), Main.Hysteresis.var\"#transformToEuklidean#4\"())), Main.Hysteresis.var\"#∇²objᵩ#9\"{Main.Hysteresis.var\"#objᵩ#7\"{Int64, Vector{Float64}, Main.Hysteresis.var\"#obj#5\"{Vector{Float64}, typeof(S)}, Main.Hysteresis.var\"#transformToEuklidean#4\"}}(Main.Hysteresis.var\"#objᵩ#7\"{Int64, Vector{Float64}, Main.Hysteresis.var\"#obj#5\"{Vector{Float64}, typeof(S)}, Main.Hysteresis.var\"#transformToEuklidean#4\"}(1, [0.0, 0.0, 0.0], Main.Hysteresis.var\"#obj#5\"{Vector{Float64}, typeof(S)}([0.0, 0.0, 0.0], S), Main.Hysteresis.var\"#transformToEuklidean#4\"()))), [0.14388349831834768, 0.43763289328452054, 0.8875668930436137], 2.8609792490763985e-16, true)"
      ]
     },
     "metadata": {},
     "output_type": "display_data"
    }
   ],
   "source": [
    "sol = solve(intfRes)"
   ]
  },
  {
   "cell_type": "code",
   "execution_count": 51,
   "metadata": {},
   "outputs": [
    {
     "name": "stdout",
     "output_type": "stream",
     "text": [
      "Base.Pairs{Symbol, Function, Tuple{Symbol, Symbol}, NamedTuple{(:jac, :hes), Tuple{typeof(∂U), typeof(∂²U)}}}(:jac => ∂U, :hes => ∂²U)\n"
     ]
    },
    {
     "data": {
      "text/plain": [
       "Interface{UnrestrainedProblem}(UnrestrainedProblem(1.0, [0.0, 0.0, 0.0], [0.0, 0.0, 0.0], U, ∂U, ∂²U, Main.Hysteresis.var\"#diffPart#13\"{Vector{Float64}, typeof(U)}([0.0, 0.0, 0.0], U), Main.Hysteresis.var\"#∇diffPart#14\"{Vector{Float64}}([0.0, 0.0, 0.0], Core.Box(∂U)), Main.Hysteresis.var\"#obj#15\"{Int64, Vector{Float64}, Vector{Float64}, typeof(U)}(1, [0.0, 0.0, 0.0], [0.0, 0.0, 0.0], U), Main.Hysteresis.var\"#∇obj#16\"{Int64, Vector{Float64}, Vector{Float64}, typeof(U)}(1, [0.0, 0.0, 0.0], [0.0, 0.0, 0.0], U), Main.Hysteresis.var\"#∇²obj#17\"{Main.Hysteresis.var\"#obj#15\"{Int64, Vector{Float64}, Vector{Float64}, typeof(U)}}(Main.Hysteresis.var\"#obj#15\"{Int64, Vector{Float64}, Vector{Float64}, typeof(U)}(1, [0.0, 0.0, 0.0], [0.0, 0.0, 0.0], U))), [0.0, 0.0, 0.0], [0.0, 0.0, 0.0], Inf)"
      ]
     },
     "metadata": {},
     "output_type": "display_data"
    }
   ],
   "source": [
    "unrestrainedProblem = UnrestrainedProblem(χ, h , mₚ, U,jac = ∂U, hes = ∂²U)\n",
    "x0 = zeros(3)\n",
    "\n",
    "intfUnres = Interface(unrestrainedProblem,x0)"
   ]
  },
  {
   "cell_type": "code",
   "execution_count": 52,
   "metadata": {},
   "outputs": [
    {
     "data": {
      "text/plain": [
       "Main.Hysteresis.Solution(UnrestrainedProblem(1.0, [0.0, 0.0, 0.0], [0.0, 0.0, 0.0], U, ∂U, ∂²U, Main.Hysteresis.var\"#diffPart#13\"{Vector{Float64}, typeof(U)}([0.0, 0.0, 0.0], U), Main.Hysteresis.var\"#∇diffPart#14\"{Vector{Float64}}([0.0, 0.0, 0.0], Core.Box(∂U)), Main.Hysteresis.var\"#obj#15\"{Int64, Vector{Float64}, Vector{Float64}, typeof(U)}(1, [0.0, 0.0, 0.0], [0.0, 0.0, 0.0], U), Main.Hysteresis.var\"#∇obj#16\"{Int64, Vector{Float64}, Vector{Float64}, typeof(U)}(1, [0.0, 0.0, 0.0], [0.0, 0.0, 0.0], U), Main.Hysteresis.var\"#∇²obj#17\"{Main.Hysteresis.var\"#obj#15\"{Int64, Vector{Float64}, Vector{Float64}, typeof(U)}}(Main.Hysteresis.var\"#obj#15\"{Int64, Vector{Float64}, Vector{Float64}, typeof(U)}(1, [0.0, 0.0, 0.0], [0.0, 0.0, 0.0], U))), [-0.12924469795576582, -0.25848939591153547, -0.387734093867308], 0.8599696373681742, false)"
      ]
     },
     "metadata": {},
     "output_type": "display_data"
    }
   ],
   "source": [
    "solUnres = solve(intfUnres,maxiter = 1000000)"
   ]
  },
  {
   "cell_type": "code",
   "execution_count": 53,
   "metadata": {},
   "outputs": [
    {
     "data": {
      "text/plain": [
       "false"
      ]
     },
     "metadata": {},
     "output_type": "display_data"
    }
   ],
   "source": [
    "solUnres.convergent"
   ]
  },
  {
   "cell_type": "code",
   "execution_count": null,
   "metadata": {},
   "outputs": [],
   "source": []
  }
 ],
 "metadata": {
  "kernelspec": {
   "display_name": "Julia 1.9.0",
   "language": "julia",
   "name": "julia-1.9"
  },
  "language_info": {
   "file_extension": ".jl",
   "mimetype": "application/julia",
   "name": "julia",
   "version": "1.9.0"
  },
  "orig_nbformat": 4
 },
 "nbformat": 4,
 "nbformat_minor": 2
}
